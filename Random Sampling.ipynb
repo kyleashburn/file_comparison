{
 "cells": [
  {
   "cell_type": "code",
   "execution_count": 24,
   "id": "55a4c9e2",
   "metadata": {},
   "outputs": [],
   "source": [
    "import pandas as pd\n",
    "import numpy as np\n",
    "import matplotlib.pyplot as plt\n",
    "import os\n",
    "import random \n",
    "from pathlib import Path\n",
    "import jellyfish"
   ]
  },
  {
   "cell_type": "code",
   "execution_count": 2,
   "id": "9380190f",
   "metadata": {},
   "outputs": [],
   "source": [
    "cwd = os.getcwd()"
   ]
  },
  {
   "cell_type": "code",
   "execution_count": 3,
   "id": "273afb31",
   "metadata": {},
   "outputs": [],
   "source": [
    "post_path = cwd +  \"\\parler_2020-01-06_posts-partial\\posts\""
   ]
  },
  {
   "cell_type": "markdown",
   "id": "af66f714",
   "metadata": {},
   "source": [
    "Let's take 3 random samples from within the list of files and then we can go ahead and check those to see if the files are all the same."
   ]
  },
  {
   "cell_type": "code",
   "execution_count": 5,
   "id": "ecf23f4d",
   "metadata": {},
   "outputs": [
    {
     "name": "stdout",
     "output_type": "stream",
     "text": [
      "CPU times: total: 2.73 s\n",
      "Wall time: 2.78 s\n"
     ]
    }
   ],
   "source": [
    "%%time\n",
    "rand_samp_1 = random.choices(os.listdir(post_path), k=1000)"
   ]
  },
  {
   "cell_type": "code",
   "execution_count": 6,
   "id": "e8d817b0",
   "metadata": {},
   "outputs": [
    {
     "name": "stdout",
     "output_type": "stream",
     "text": [
      "CPU times: total: 2.53 s\n",
      "Wall time: 2.54 s\n"
     ]
    }
   ],
   "source": [
    "%%time\n",
    "rand_samp_2 = random.choices(os.listdir(post_path), k=1000)"
   ]
  },
  {
   "cell_type": "code",
   "execution_count": 7,
   "id": "415bcc29",
   "metadata": {},
   "outputs": [
    {
     "name": "stdout",
     "output_type": "stream",
     "text": [
      "CPU times: total: 2.55 s\n",
      "Wall time: 2.55 s\n"
     ]
    }
   ],
   "source": [
    "%%time\n",
    "rand_samp_3 = random.choices(os.listdir(post_path), k=1000)"
   ]
  },
  {
   "cell_type": "markdown",
   "id": "4b96d003",
   "metadata": {},
   "source": [
    "We're then going through and just pulling the files and their text using a dict comp for each of the random samples."
   ]
  },
  {
   "cell_type": "code",
   "execution_count": 12,
   "id": "44655f60",
   "metadata": {},
   "outputs": [
    {
     "name": "stdout",
     "output_type": "stream",
     "text": [
      "CPU times: total: 156 ms\n",
      "Wall time: 153 ms\n"
     ]
    }
   ],
   "source": [
    "%%time \n",
    "rand_files_1 = {file: Path(post_path+\"\\\\\"+file).read_text(encoding=\"utf-8\") for file in rand_samp_1}"
   ]
  },
  {
   "cell_type": "code",
   "execution_count": 9,
   "id": "314dce10",
   "metadata": {},
   "outputs": [
    {
     "name": "stdout",
     "output_type": "stream",
     "text": [
      "CPU times: total: 406 ms\n",
      "Wall time: 4.95 s\n"
     ]
    }
   ],
   "source": [
    "%%time \n",
    "rand_files_2 = {file: Path(post_path+\"\\\\\"+file).read_text(encoding=\"utf-8\") for file in rand_samp_2}"
   ]
  },
  {
   "cell_type": "code",
   "execution_count": 10,
   "id": "545a93fb",
   "metadata": {},
   "outputs": [
    {
     "name": "stdout",
     "output_type": "stream",
     "text": [
      "CPU times: total: 453 ms\n",
      "Wall time: 5.11 s\n"
     ]
    }
   ],
   "source": [
    "%%time \n",
    "rand_files_3 = {file: Path(post_path+\"\\\\\"+file).read_text(encoding=\"utf-8\") for file in rand_samp_3}"
   ]
  },
  {
   "cell_type": "markdown",
   "id": "ff221697",
   "metadata": {},
   "source": [
    "Then let's go ahead and make dataframes from each of those and clean them up before calculating the distance using Hamming Distance. While Hamming Distance isn't exactly the best distance metric period, it is very fast and is likely to be a good enough metric here since we're just trying to figure out if the files are identical."
   ]
  },
  {
   "cell_type": "code",
   "execution_count": 14,
   "id": "d08c69e5",
   "metadata": {},
   "outputs": [],
   "source": [
    "rand_df_1 = pd.DataFrame.from_dict(rand_files_1, orient=\"index\")\n",
    "rand_df_2 = pd.DataFrame.from_dict(rand_files_2, orient=\"index\")\n",
    "rand_df_3 = pd.DataFrame.from_dict(rand_files_3, orient=\"index\")"
   ]
  },
  {
   "cell_type": "code",
   "execution_count": 16,
   "id": "b940ca36",
   "metadata": {},
   "outputs": [],
   "source": [
    "rand_df_1 = rand_df_1.rename(columns={0:\"html\"})\n",
    "rand_df_2 = rand_df_2.rename(columns={0:\"html\"})\n",
    "rand_df_3 = rand_df_3.rename(columns={0:\"html\"})"
   ]
  },
  {
   "cell_type": "code",
   "execution_count": 26,
   "id": "19e144b0",
   "metadata": {
    "scrolled": true
   },
   "outputs": [
    {
     "name": "stdout",
     "output_type": "stream",
     "text": [
      "CPU times: total: 172 ms\n",
      "Wall time: 177 ms\n"
     ]
    }
   ],
   "source": [
    "%%time\n",
    "\n",
    "# each time comparing them to the first element in the list of files; if they're identical, the dist should be 0 across all\n",
    "rand_df_1[\"comp_dist\"] = rand_df_1[\"html\"].apply(lambda x: jellyfish.hamming_distance(x, rand_df_1[\"html\"].head(1).values[0])) \n",
    "rand_df_2[\"comp_dist\"] = rand_df_2[\"html\"].apply(lambda x: jellyfish.hamming_distance(x, rand_df_2[\"html\"].head(1).values[0])) \n",
    "rand_df_3[\"comp_dist\"] = rand_df_3[\"html\"].apply(lambda x: jellyfish.hamming_distance(x, rand_df_3[\"html\"].head(1).values[0])) "
   ]
  },
  {
   "cell_type": "markdown",
   "id": "5a9d1766",
   "metadata": {},
   "source": [
    "Finally, let's look at those distance values. We can clearly see that since the distances aren't all 0, that the files aren't all identical. If we wanted to be more serious, there are some simple statistical things we could do, but for here, this is sufficient for us to say that the files aren't all identical. "
   ]
  },
  {
   "cell_type": "code",
   "execution_count": 30,
   "id": "dc6f111c",
   "metadata": {},
   "outputs": [
    {
     "data": {
      "text/plain": [
       "10258    59\n",
       "9729      5\n",
       "9558      4\n",
       "9648      4\n",
       "9453      4\n",
       "         ..\n",
       "9316      1\n",
       "10926     1\n",
       "11202     1\n",
       "9297      1\n",
       "8517      1\n",
       "Name: comp_dist, Length: 756, dtype: int64"
      ]
     },
     "execution_count": 30,
     "metadata": {},
     "output_type": "execute_result"
    }
   ],
   "source": [
    "rand_df_1[\"comp_dist\"].value_counts()"
   ]
  },
  {
   "cell_type": "code",
   "execution_count": 31,
   "id": "c566fe55",
   "metadata": {},
   "outputs": [
    {
     "data": {
      "text/plain": [
       "10730    70\n",
       "10192     5\n",
       "10210     5\n",
       "10180     5\n",
       "10202     5\n",
       "         ..\n",
       "9815      1\n",
       "12070     1\n",
       "10755     1\n",
       "9717      1\n",
       "9810      1\n",
       "Name: comp_dist, Length: 714, dtype: int64"
      ]
     },
     "execution_count": 31,
     "metadata": {},
     "output_type": "execute_result"
    }
   ],
   "source": [
    "rand_df_2[\"comp_dist\"].value_counts()"
   ]
  },
  {
   "cell_type": "code",
   "execution_count": 32,
   "id": "756ec759",
   "metadata": {},
   "outputs": [
    {
     "data": {
      "text/plain": [
       "11617    43\n",
       "10766     5\n",
       "10950     5\n",
       "10577     5\n",
       "10792     5\n",
       "         ..\n",
       "10482     1\n",
       "16387     1\n",
       "11117     1\n",
       "7056      1\n",
       "10714     1\n",
       "Name: comp_dist, Length: 664, dtype: int64"
      ]
     },
     "execution_count": 32,
     "metadata": {},
     "output_type": "execute_result"
    }
   ],
   "source": [
    "rand_df_3[\"comp_dist\"].value_counts()"
   ]
  },
  {
   "cell_type": "code",
   "execution_count": null,
   "id": "ed80acd8",
   "metadata": {},
   "outputs": [],
   "source": []
  }
 ],
 "metadata": {
  "kernelspec": {
   "display_name": "Python 3 (ipykernel)",
   "language": "python",
   "name": "python3"
  },
  "language_info": {
   "codemirror_mode": {
    "name": "ipython",
    "version": 3
   },
   "file_extension": ".py",
   "mimetype": "text/x-python",
   "name": "python",
   "nbconvert_exporter": "python",
   "pygments_lexer": "ipython3",
   "version": "3.8.8"
  }
 },
 "nbformat": 4,
 "nbformat_minor": 5
}
